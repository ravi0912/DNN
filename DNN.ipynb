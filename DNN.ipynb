{
 "cells": [
  {
   "cell_type": "code",
   "execution_count": 3,
   "metadata": {},
   "outputs": [],
   "source": [
    "#Created by RK\n",
    "#Code with smile\n",
    "\n",
    "\n",
    "#Building deep neural network step by step.\n",
    "#In this code, I will build important function which will help us in creating deep neural network. \n",
    "#So, basically every Deep Neural Network is divided into 5 steps:\n",
    "# 1. Initialization of Parameters\n",
    "# 2. Build the forward propogation\n",
    "# 3. Computer Cost function\n",
    "# 4. Backward propogation\n",
    "# 5. Update Parameters\n",
    "#packages\n",
    "import numpy as np\n",
    "import matplotlib.pyplot as plt\n",
    "from dnn_helper_utils import relu,sigmoid,relu_backward,sig_backward\n"
   ]
  },
  {
   "cell_type": "code",
   "execution_count": 22,
   "metadata": {},
   "outputs": [],
   "source": [
    "#Part 1: Initialize Paramters\n",
    "# layer_dims -- array list containing the dimensions of each layer\n",
    "def initialize_paramters_deep(layer_dims):\n",
    "    L = len(layer_dims)\n",
    "    parameters = {}\n",
    "    for i in range(1,L):\n",
    "        parameters[\"W\"+str(i)] = np.random.randn(layer_dims[i],layer_dims[i-1])*0.01\n",
    "        parameters[\"b\"+str(i)] = np.zeros((layer_dims[i],1))\n",
    "\n",
    "        assert(parameters[\"W\"+str(i)].shape == (layer_dims[i],layer_dims[i-1]))\n",
    "        assert(parameters[\"b\"+str(i)].shape == (layer_dims[i],1))\n",
    "            \n",
    "    return parameters"
   ]
  },
  {
   "cell_type": "code",
   "execution_count": 24,
   "metadata": {},
   "outputs": [],
   "source": [
    "def linear_forward(A,W,b):       \n",
    "    z = np.dot(W,A) + b\n",
    "    assert(z.shape == (W.shape[0],A.shape[1]))\n",
    "    cache = (A,W,b)\n",
    "    return z, cache"
   ]
  },
  {
   "cell_type": "code",
   "execution_count": 25,
   "metadata": {},
   "outputs": [],
   "source": [
    "def linear_activation_forward(A_prev,W,b,activation):\n",
    "    z, linear_cache = linear_forward(A_prev,W,b)\n",
    "    if activation == \"sigmoid\":\n",
    "        A,activation_cache = sigmoid(z)\n",
    "        \n",
    "    if activation == \"relu\":\n",
    "        A,activation_cache = relu(z)\n",
    "        \n",
    "    cache = (linear_cache,activation_cache)\n",
    "    return A,cache"
   ]
  },
  {
   "cell_type": "code",
   "execution_count": 28,
   "metadata": {},
   "outputs": [],
   "source": [
    "# X -- data (input size, no. of examples)\n",
    "# parameters -- output of initialize_parameters_deep\n",
    "#AL last layer output\n",
    "def l_layer_forward(X,parameters):\n",
    "    caches = {}\n",
    "    L = len(parameters)\n",
    "    A = X\n",
    "    for i in range(1,L):\n",
    "        A_prev = A\n",
    "        A,cache = linear_activation_forward(A_prev,parameters[\"W\"+str(i)],parameters[\"b\"+str(i)],\"relu\")\n",
    "        caches.append(cache)\n",
    "        \n",
    "    AL,cache = linear_activation_forward(A,parameters[\"W\"+str(L)],parameters[\"b\"+str(L)],\"sigmoid\")\n",
    "    caches.append(cache)\n",
    "    \n",
    "    assert(AL.shape == (1,X.shape[1]))\n",
    "    return AL,caches\n",
    "        "
   ]
  },
  {
   "cell_type": "code",
   "execution_count": 31,
   "metadata": {},
   "outputs": [],
   "source": [
    "#AL -- probablity vector of label predictions\n",
    "#Y -- true label\n",
    "def compute_cost(AL,Y):\n",
    "    m = Y.shape[1]\n",
    "    cost = -np.sum(np.dot(Y,np.log(AL.T))+np.dot(1-Y,np.log(1-AL.T)))/m\n",
    "    cost = np.squeeze(cost)\n",
    "    assert(cost.shape == ())\n",
    "    return cost\n",
    "    "
   ]
  },
  {
   "cell_type": "code",
   "execution_count": 32,
   "metadata": {},
   "outputs": [],
   "source": [
    "def linear_backward(dZ,cache):\n",
    "    A_prev, W, b = cache\n",
    "    m = A_prev.shape[1]\n",
    "    dW = (1. / m) * np.dot(dZ, A_prev.T) \n",
    "    db = (1. / m) * np.sum(dZ, axis=1, keepdims=True)\n",
    "    dA_prev = np.dot(W.T, dZ)\n",
    "\n",
    "    assert (dA_prev.shape == A_prev.shape)\n",
    "    assert (dW.shape == W.shape)\n",
    "    assert (db.shape == b.shape)\n",
    "    \n",
    "    return dA_prev, dW, db"
   ]
  },
  {
   "cell_type": "code",
   "execution_count": 33,
   "metadata": {},
   "outputs": [],
   "source": [
    "def linear_activation_backward(dA, cache, activation):\n",
    "    linear_cache, activation_cache = cache\n",
    "    if activation == \"relu\":\n",
    "        dZ = relu_backward(dA, activation_cache)\n",
    "        dA_prev, dW, db = linear_backward(dZ, linear_cache)\n",
    "        \n",
    "    elif activation == \"sigmoid\":\n",
    "        dZ = sig_backward(dA, activation_cache)\n",
    "        dA_prev, dW, db = linear_backward(dZ, linear_cache)\n",
    "    \n",
    "    return dA_prev, dW, db"
   ]
  },
  {
   "cell_type": "code",
   "execution_count": 34,
   "metadata": {},
   "outputs": [],
   "source": [
    "def L_model_backward(AL, Y, caches):\n",
    "    grads = {}\n",
    "    L = len(caches)\n",
    "    m = AL.shape[1]\n",
    "    Y = Y.reshape(AL.shape)\n",
    "\n",
    "    dAL = - (np.divide(Y, AL) - np.divide(1 - Y, 1 - AL))\n",
    "    \n",
    "    current_cache = caches[-1]\n",
    "    grads[\"dA\" + str(L)], grads[\"dW\" + str(L)], grads[\"db\" + str(L)] = linear_activation_backward(dAL, current_cache, activation=\"sigmoid\")\n",
    "\n",
    "    \n",
    "    for l in reversed(range(L-1)):\n",
    "        current_cache = caches[l] \n",
    "        dA_prev_temp, dW_temp, db_temp = linear_activation_backward(grads[\"dA\" + str(l + 2)], current_cache, activation=\"relu\")\n",
    "        grads[\"dA\" + str(l + 1)] = dA_prev_temp\n",
    "        grads[\"dW\" + str(l + 1)] = dW_temp\n",
    "        grads[\"db\" + str(l + 1)] = db_temp\n",
    "\n",
    "    return grads"
   ]
  },
  {
   "cell_type": "code",
   "execution_count": 35,
   "metadata": {},
   "outputs": [],
   "source": [
    "def update_parameters(parameters, grads, learning_rate):\n",
    "    \n",
    "    L = len(parameters)\n",
    "\n",
    "    for l in range(L):\n",
    "        parameters[\"W\" + str(l+1)] = parameters[\"W\" + str(l+1)] - learning_rate * grads[\"dW\" + str(l+1)]\n",
    "        parameters[\"b\" + str(l+1)] = parameters[\"b\" + str(l+1)] - learning_rate * grads[\"db\" + str(l+1)]\n",
    "        \n",
    "    return parameters"
   ]
  },
  {
   "cell_type": "code",
   "execution_count": null,
   "metadata": {},
   "outputs": [],
   "source": []
  }
 ],
 "metadata": {
  "kernelspec": {
   "display_name": "Python 3",
   "language": "python",
   "name": "python3"
  },
  "language_info": {
   "codemirror_mode": {
    "name": "ipython",
    "version": 3
   },
   "file_extension": ".py",
   "mimetype": "text/x-python",
   "name": "python",
   "nbconvert_exporter": "python",
   "pygments_lexer": "ipython3",
   "version": "3.5.2"
  }
 },
 "nbformat": 4,
 "nbformat_minor": 2
}
