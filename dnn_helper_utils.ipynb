{
 "cells": [
  {
   "cell_type": "code",
   "execution_count": 1,
   "metadata": {},
   "outputs": [],
   "source": [
    "#created by Rk\n",
    "#Here we are creating helper function for different functions like\n",
    "#relu ,sigmoid, relu_backward, sig_backward\n",
    "#Here for every forward function we will check for the dimension and store the current value in cache\n",
    "# which will help us in calculating backward prop efficiently\n",
    "import numpy as np"
   ]
  },
  {
   "cell_type": "code",
   "execution_count": 6,
   "metadata": {},
   "outputs": [],
   "source": [
    "def relu(z):\n",
    "    A = np.maximum(0,z)\n",
    "    assert(A.shape == z.shape)\n",
    "    cache = z\n",
    "    return A,cache"
   ]
  },
  {
   "cell_type": "code",
   "execution_count": 10,
   "metadata": {},
   "outputs": [],
   "source": [
    "def sigmoid(z):\n",
    "    A = 1/(1+np.exp(-z))\n",
    "    cache = z\n",
    "    return A,cache"
   ]
  },
  {
   "cell_type": "code",
   "execution_count": 12,
   "metadata": {},
   "outputs": [],
   "source": [
    "#dA -- post-activation gradient\n",
    "#cache -- we stored the value of current node\n",
    "#dZ -- Gradient of the cost wrt z\n",
    "def relu_backward(dA, cache):\n",
    "    z = cache\n",
    "    dZ = np.array(dA,copy = True)\n",
    "    dZ[z<=0] = 0\n",
    "    assert(dZ.shape == z.shape)\n",
    "    return dZ\n",
    "    "
   ]
  },
  {
   "cell_type": "code",
   "execution_count": 17,
   "metadata": {},
   "outputs": [],
   "source": [
    "def sig_backward(dA,cache):\n",
    "    z = cache\n",
    "    s = 1/(1+np.exp(-z))\n",
    "    dZ = dA*s*(1-s)\n",
    "    assert(dZ.shape == z.shape)\n",
    "    return dZ"
   ]
  },
  {
   "cell_type": "code",
   "execution_count": 18,
   "metadata": {},
   "outputs": [
    {
     "name": "stdout",
     "output_type": "stream",
     "text": [
      "[0.04517666 0.03532541 0.01994417]\n"
     ]
    }
   ],
   "source": [
    "print(sig_backward(np.array([1,2,3]),np.array([-3,4,5])))"
   ]
  },
  {
   "cell_type": "code",
   "execution_count": null,
   "metadata": {},
   "outputs": [],
   "source": []
  }
 ],
 "metadata": {
  "kernelspec": {
   "display_name": "Python 3",
   "language": "python",
   "name": "python3"
  },
  "language_info": {
   "codemirror_mode": {
    "name": "ipython",
    "version": 3
   },
   "file_extension": ".py",
   "mimetype": "text/x-python",
   "name": "python",
   "nbconvert_exporter": "python",
   "pygments_lexer": "ipython3",
   "version": "3.5.2"
  }
 },
 "nbformat": 4,
 "nbformat_minor": 2
}
